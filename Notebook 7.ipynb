{
 "cells": [
  {
   "cell_type": "markdown",
   "metadata": {},
   "source": [
    "<img src=\"/static/base/images/logo.png?v=641991992878ee24c6f3826e81054a0f\" alt=\"Jupyter Notebook\">\n",
    "<h1 style=\"text-align: center\">Notebook 7 - Python Flask</h1>"
   ]
  },
  {
   "cell_type": "markdown",
   "metadata": {},
   "source": [
    "<h3>Prerequisites</h3>\n",
    "\n",
    "- You must have Python 3 installed on your system (<a href=\"https://www.python.org/downloads/\">Download</a>)\n",
    "- You must have Jupyter installed on your system (<a href=\"https://jupyter.org/install\">Download</a>)\n",
    "- Some knowledge of Python, HTML, Javascript and SQL may be required"
   ]
  },
  {
   "cell_type": "markdown",
   "metadata": {},
   "source": [
    "<h3>Explanation of Notebook 7</h3>\n",
    "\n",
    "This notebook will involve building services that interact with a database; you will create a simple table using SQLite3 for entering requests for stocks, and you'll develop methods for this table that allows you to create, update and delete rows using the Flask framework. This will also involve the use of HTML for the web pages for the application and the \"requests\" library to retrieve submitted data through those pages.\n",
    "\n",
    "+ SQLite3 is a module included in Python (2.5+), SQLite is an embedded relational database engine, and this module is used to create a database that's stored in a single disk file, meaning that you do not have to create a server to access it.<br>\n",
    "+ Flask on the other hand is a framework that allows you to work with SQLite3 module to make a CRUD (create, retrieve, update, delete) application.\n",
    "\n",
    "The table will include the following properties/columns: \n",
    "+ <code>asset</code> \n",
    "+ <code>order_date</code>\n",
    "+ <code>amount</code>\n",
    "+ <code>price</code>"
   ]
  },
  {
   "cell_type": "markdown",
   "metadata": {},
   "source": [
    "<h3>Getting started</h3>\n",
    "\n",
    "As mentioned above, \"SQLite3\" will be preinstalled with Python (2.5+), however, you'll need to install \"Flask\" and \"reqests\" manually. <br>\n",
    "You can do this using pip in Command Prompt (Windows), or the Terminal (MacOS/Linux):<br>\n",
    "<code>pip install Flask</code><br>\n",
    "<code>pip install requests</code>\n",
    "\n",
    "Otherwise, run the cells below."
   ]
  },
  {
   "cell_type": "code",
   "execution_count": null,
   "metadata": {},
   "outputs": [],
   "source": [
    "pip install Flask"
   ]
  },
  {
   "cell_type": "code",
   "execution_count": null,
   "metadata": {},
   "outputs": [],
   "source": [
    "pip install requests"
   ]
  },
  {
   "cell_type": "markdown",
   "metadata": {},
   "source": [
    "After doing so, you may proceed with the notebook; make sure that your kernel is set to Python 3 as we won't be working with R."
   ]
  },
  {
   "cell_type": "markdown",
   "metadata": {},
   "source": [
    "<h3>Creating the database & table</h3>"
   ]
  },
  {
   "cell_type": "code",
   "execution_count": null,
   "metadata": {},
   "outputs": [],
   "source": [
    "import sqlite3\n",
    "\n",
    "DB = sqlite3.connect(\"data/database.db\")\n",
    "c = DB.cursor()"
   ]
  },
  {
   "cell_type": "markdown",
   "metadata": {},
   "source": [
    "The above cell will create a database named \"database.db\" on the folder \"data\".<br>\n",
    "The 'c' object is assigned to the database cursor, and the reason why we need it is so that we can execute SQL statements onto that database using that cursor, such as making new tables like shown below."
   ]
  },
  {
   "cell_type": "code",
   "execution_count": null,
   "metadata": {},
   "outputs": [],
   "source": [
    "def create_table():\n",
    "    c.execute(\"CREATE TABLE IF NOT EXISTS stockTable(id INTEGER PRIMARY KEY AUTOINCREMENT, asset TEXT, order_date TEXT, amount INTEGER, price REAL)\")\n",
    "    print(\"Table created\") #To ensure it worked\n",
    "    c.close()"
   ]
  },
  {
   "cell_type": "markdown",
   "metadata": {},
   "source": [
    "The above \"create_table\" function will execute an SQL command to create a table named \"stockTable\" with four columns; id, asset, order_date, amount, and price, the data type \"REAL\" refers to floats, which means it allows decimal points.\n",
    "\n",
    "The reason why a column for \"id\" was made was to ensure that each share is uniquely identified as it is used as the primary key for the table.\n",
    "\n",
    "This will be used to store all the shares which can be managed from the application, which is created in the following cells."
   ]
  },
  {
   "cell_type": "markdown",
   "metadata": {},
   "source": [
    "<h3>Example</h3>\n",
    "\n",
    "<b>Warning: Make sure you restart the kernel if you run this example to run the rest of the code</b>"
   ]
  },
  {
   "cell_type": "code",
   "execution_count": null,
   "metadata": {},
   "outputs": [],
   "source": [
    "from flask import *  \n",
    "\n",
    "app = Flask(__name__) #Create Flask application\n",
    "\n",
    "#When in root directory\n",
    "@app.route(\"/\")\n",
    "def index():\n",
    "    return render_template(\"index.html\");  #Go to index.html\n",
    "\n",
    "if (__name__ == '__main__'):\n",
    "    create_table() #Create the table\n",
    "    app.run(host='127.0.0.1', port=5000)"
   ]
  },
  {
   "cell_type": "markdown",
   "metadata": {},
   "source": [
    "The line mentioning the route of the application refers to what needs to be handled when the you visit localhost on port 5000, which in this case, it should go to the function named \"index\", this process is known as routing.\n",
    "\n",
    "If you run the above cell, it will create a local server and look for a file name \"index.html\" using the \"render_template\" function, this will look for that file in a folder named \"templates\" (It must be called this as otherwise it'd not work), this is because Flask is run on a website, and since the first function that is ran is \"main\", it will check if the current function is on \"main\" which if it is it runs the application.\n",
    "\n",
    "You can look at the html files and modify them in the <a href=\"http://localhost:8888/lab/tree/Notebook%207/templates\">templates</a> folder, the \"index.html\" file looks like this:"
   ]
  },
  {
   "cell_type": "raw",
   "metadata": {},
   "source": [
    "<!DOCTYPE html>  \n",
    "<html>  \n",
    "<head>  \n",
    "    <title>Home</title>  \n",
    "</head>  \n",
    "<body>  \n",
    "    <h2>SQLite3-Flask stock database</h2>  \n",
    "    <a href=\"/add\">Add Share</a><br><br>  \n",
    "    <a href =\"/view\">Update Share</a><br><br>  \n",
    "    <a href=\"/delete\">Delete Share</a><br><br>  \n",
    "</body>  \n",
    "</html>"
   ]
  },
  {
   "cell_type": "markdown",
   "metadata": {},
   "source": [
    "You can see that it has three articles, and each of them has a \"href\" tag linking to each route, and when the user clicks one of them, the application detects this.\n",
    "\n",
    "Something to note is that in Jupyter, running a Flask web application will be continuous and thus you won't be able to run anything else until you restart the kernel with cleared outputs, due to this, the code for running the application will be in a separate cell, check the cell below."
   ]
  },
  {
   "cell_type": "markdown",
   "metadata": {},
   "source": [
    "<h3>Index and add share pages</h3>"
   ]
  },
  {
   "cell_type": "code",
   "execution_count": null,
   "metadata": {},
   "outputs": [],
   "source": [
    "from flask import *\n",
    "\n",
    "app = Flask(__name__) #Create Flask application\n",
    "\n",
    "#When in root directory\n",
    "@app.route(\"/\")\n",
    "def index():\n",
    "    return render_template(\"index.html\");  #Go to index.html \n",
    "\n",
    "#When in 'add' directory\n",
    "@app.route(\"/add\")  \n",
    "def add():  \n",
    "    return render_template(\"add.html\")  #Go to add.html"
   ]
  },
  {
   "cell_type": "markdown",
   "metadata": {},
   "source": [
    "This cell creates two routes, for the \"index\" and the \"add\" pages; index will be used as the homepage while the add page will be used to insert shares into the database from the web application, but we have to make sure that data the user added gets added into the database, and so we'll need to make a new route for that."
   ]
  },
  {
   "cell_type": "markdown",
   "metadata": {},
   "source": [
    "<h3>Adding rows</h3>"
   ]
  },
  {
   "cell_type": "code",
   "execution_count": null,
   "metadata": {},
   "outputs": [],
   "source": [
    "#When in 'savedetails' directory\n",
    "@app.route(\"/savedetails\",methods = [\"POST\"]) \n",
    "def saveDetails():  \n",
    "    msg = \"msg\"\n",
    "    if (request.method == \"POST\"): #If the user submits data\n",
    "        try:  \n",
    "            asset = request.form[\"asset\"]  #Get asset\n",
    "            order_date = request.form[\"order_date\"]  #Get order date\n",
    "            amount = request.form[\"amount\"]  #Get amount\n",
    "            price = request.form[\"price\"]  #Get price\n",
    "            with sqlite3.connect(\"data/database.db\") as con: #Connect to database\n",
    "                cur = con.cursor()\n",
    "                cur.execute(\"INSERT into stockTable (asset, order_date, amount, price) values (?,?,?,?)\",(asset,order_date,amount,price)) #Add the user's data  \n",
    "                con.commit()  \n",
    "                msg = \"Share successfully added\"\n",
    "        except:  \n",
    "            con.rollback()  \n",
    "            msg = \"We can not add the share to the list\"  \n",
    "        finally:  \n",
    "            return render_template(\"success.html\",msg = msg)  #Go to the successful/success.html page with the message\n",
    "            con.close()  "
   ]
  },
  {
   "cell_type": "markdown",
   "metadata": {},
   "source": [
    "You can see that there are variables for each value (asset, order_date, amount and price), and it connects to the database once again so that it can add those values, and if something fails it will rollback any changes made. Regardless of the success of the user's action, it will go to \"success.html\" page where it'll display a message either saying \"Share successfully added\" or \"We can not add the share to the list\", you can see that it does this using the second parameter in the \"render_template\" function at the end, to make things easier, the cell below shows the \"success.html\" file."
   ]
  },
  {
   "cell_type": "raw",
   "metadata": {},
   "source": [
    "<!DOCTYPE html>  \n",
    "<html>  \n",
    "<head>  \n",
    "    <title>Save details</title>  \n",
    "</head>  \n",
    "<body>  \n",
    "    <h3>{{msg}}</h3>  \n",
    "    <a href=\"/view\">View Shares</a>  \n",
    "</body>  \n",
    "</html>  "
   ]
  },
  {
   "cell_type": "markdown",
   "metadata": {},
   "source": [
    "The \"h3\" tag catches the \"msg\" parameter's value from the route, this is because the enclosing curly brackets of the word \"msg\" in the html file acts as a placeholder for that parameter value, and so upon viewing that page, it will display text based on the success onto that \"h3\" tag.\n",
    "\n",
    "You'll notice something different with this route; it has another parameter for the \"methods\", which is set to \"POST\" in this case. It is what is used for gaining submitted data when going to the specified web page, which in this case is the file \"add.html\", which is shown below."
   ]
  },
  {
   "cell_type": "raw",
   "metadata": {},
   "source": [
    "<!DOCTYPE html>  \n",
    "<html>  \n",
    "<head>  \n",
    "    <title>Add Share</title>  \n",
    "</head>  \n",
    "<body>  \n",
    "    <h2>Shares Information</h2>   \n",
    "    <form action = \"/savedetails\" method=\"post\">  \n",
    "    <table>  \n",
    "        <tr><td>Asset</td><td><input type=\"text\" name=\"asset\"></td></tr>  \n",
    "        <tr><td>Date</td><td><input style=\"background-color: gray\" type=\"text\" name=\"order_date\" id=\"date\" readonly></td></tr>  \n",
    "        <tr><td>Amount</td><td><input type=\"number\" name=\"amount\"></td></tr>  \n",
    "        <tr><td>Price</td><td><input type=\"number\" step=\"any\" name=\"price\"></td></tr>  \n",
    "        <tr><td><input type=\"submit\" value=\"Submit\"></td></tr>  \n",
    "    </table>  \n",
    "    </form>  \n",
    "    \n",
    "    <script>\n",
    "        n =  new Date();\n",
    "        y = n.getFullYear();\n",
    "        m = n.getMonth() + 1;\n",
    "        d = n.getDate();\n",
    "        h = n.getHours()\n",
    "        mi = n.getMinutes()\n",
    "        s = n.getSeconds()\n",
    "        console.log(d)\n",
    "        document.getElementById(\"date\").value = d + \"/\" + m + \"/\" + \"/\" + y + \" \" + h + \":\" + mi + \":\" + s;\n",
    "    </script>\n",
    "</body>\n",
    "</html>  "
   ]
  },
  {
   "cell_type": "markdown",
   "metadata": {},
   "source": [
    "There's an input for all 4 variables (asset, order_date, amount and price), and when you click submit, the action is \"/savedetails\" with the method \"post\", this means it will send the form with those variables onto that \"/savedetails\" page which will be caught in the route like shown above.\n",
    "\n",
    "You can also see that there's Javascript code where it gets the current date and time, this is so that it is automatically taken and set to the share date so that the user wouldn't make a mistake, hence why it is a read-only field."
   ]
  },
  {
   "cell_type": "markdown",
   "metadata": {},
   "source": [
    "<h3>Viewing rows</h3>"
   ]
  },
  {
   "cell_type": "markdown",
   "metadata": {},
   "source": [
    "We need to also make sure that these values are added onto the table in the database, so we need to make a new route to view all the shares as a table."
   ]
  },
  {
   "cell_type": "code",
   "execution_count": null,
   "metadata": {},
   "outputs": [],
   "source": [
    "#When in 'view' directory\n",
    "@app.route(\"/view\")  \n",
    "def view():  \n",
    "    con = sqlite3.connect(\"data/database.db\") #Connect to database\n",
    "    con.row_factory = sqlite3.Row #Converts the plain tuple to a more useful object\n",
    "    cur = con.cursor()  \n",
    "    cur.execute(\"select * from stockTable\") #Select everything in the table\n",
    "    rows = cur.fetchall() #Get all the rows\n",
    "    return render_template(\"view.html\",rows = rows)  #Go to view.html with the rows"
   ]
  },
  {
   "cell_type": "markdown",
   "metadata": {},
   "source": [
    "This time, you can see that after it connects to a database it runs an SQL statement to select all the data from the table and gets all of its rows, these rows are passed on as a parameter onto the \"view.html\" page so that it can be displayed, the following cell will show what the \"view.html\" file looks like."
   ]
  },
  {
   "cell_type": "raw",
   "metadata": {},
   "source": [
    "<!DOCTYPE html>  \n",
    "<html>  \n",
    "<head>  \n",
    "    <title>List of shares</title>  \n",
    "</head>  \n",
    "<body>  \n",
    "  \n",
    "<h3>Shares Information</h3>  \n",
    "\n",
    "<h3>{{msg}}</h3>  \n",
    "\n",
    "<form action = \"/update\" method=\"post\">  \n",
    "    <table>   \n",
    "        <tr><td>ID<td><input type=\"number\" name=\"id\" value='{{ id }}'></td></tr> \n",
    "        <tr><td>Asset</td><td><input type=\"text\" name=\"asset\" value='{{ asset }}'></td></tr>  \n",
    "        <tr><td>Date</td><td><input style=\"background-color: gray\" type=\"text\" name=\"order_date\" id=\"date\" readonly value='{{ date }}'></td></tr>  \n",
    "        <tr><td>Amount</td><td><input type=\"number\" name=\"amount\" value='{{ amount }}'></td></tr>  \n",
    "        <tr><td>Price</td><td><input type=\"number\" step=\"any\" name=\"price\" value='{{ price }}'></td></tr>  \n",
    "        <tr><td><input type=\"submit\" name=\"submit\" value=\"Get details\"></td></tr>\n",
    "        <tr><td><input type=\"submit\" name=\"submit\" value=\"Update\"></td></tr>\n",
    "    </table>  \n",
    "</form> \n",
    "    \n",
    "<table border=5>  \n",
    "    <thead>  \n",
    "        <td>ID</td>  \n",
    "        <td>Asset</td>  \n",
    "        <td>Order Date</td>  \n",
    "        <td>Amount</td>  \n",
    "        <td>Price</td>\n",
    "    </thead>  \n",
    "      \n",
    "    {% for row in rows %}  \n",
    "      \n",
    "        <tr>  \n",
    "            <td>{{row[\"id\"]}}</td>  \n",
    "            <td>{{row[\"asset\"]}}</td>  \n",
    "            <td>{{row[\"order_date\"]}}</td>  \n",
    "            <td>{{row[\"amount\"]}}</td>  \n",
    "            <td>{{row[\"price\"]}}</td>  \n",
    "        </tr>  \n",
    "      \n",
    "    {% endfor %}  \n",
    "</table>  \n",
    "<br><br>  \n",
    "  \n",
    "<a href=\"/\">Go back to home page</a>  \n",
    "  \n",
    "</body>  \n",
    "</html>  "
   ]
  },
  {
   "cell_type": "markdown",
   "metadata": {},
   "source": [
    "You can see that this time it's slightly difference, this is because not only do we receive the \"rows\" parameter but also use it as a for loop so that it iterates through each row in those rows and creates a table row for each with the values of those rows, and you can also notice that there are placeholders for the 'value' property of each input, which are filled when being directed to this page with the parameters, but what if we wanted to delete some of these rows? Check the cell below."
   ]
  },
  {
   "cell_type": "markdown",
   "metadata": {},
   "source": [
    "<h3>Deleting rows</h3>"
   ]
  },
  {
   "cell_type": "code",
   "execution_count": null,
   "metadata": {},
   "outputs": [],
   "source": [
    "#When in 'delete' directory\n",
    "@app.route(\"/delete\")  \n",
    "def delete():  \n",
    "    con = sqlite3.connect(\"data/database.db\") #Connect to database\n",
    "    con.row_factory = sqlite3.Row #Converts the plain tuple to a more useful object\n",
    "    cur = con.cursor()  \n",
    "    cur.execute(\"select * from stockTable\") #Select everything in the table\n",
    "    rows = cur.fetchall() #Get all the rows\n",
    "    return render_template(\"delete.html\",rows = rows)  \n",
    " \n",
    "#When in 'deleterecord' directory\n",
    "@app.route(\"/deleterecord\", methods = [\"POST\"])  \n",
    "def deleterecord():  \n",
    "    id = request.form[\"id\"] #Get id the user entered\n",
    "    with sqlite3.connect(\"data/database.db\") as con: #Connect to database\n",
    "        try:  \n",
    "            cur = con.cursor()  \n",
    "            cur.execute(\"delete from stockTable where id = ?\",id) #Delete the share containing the id  \n",
    "            msg = \"Share successfully deleted\"  \n",
    "        except:  \n",
    "            con.rollback() \n",
    "            msg = \"Share can't be deleted\"  \n",
    "        finally:  \n",
    "            return render_template(\"success.html\",msg = msg) #Go to successful/success.html page with the message\n",
    "            con.close()"
   ]
  },
  {
   "cell_type": "markdown",
   "metadata": {},
   "source": [
    "You'll see that there's two routes created, one for the page to delete (\"delete.html\") and the other to execute the deletion (\"delete.html/deleterecord -> delete_record.html\"), you can see that it uses the \"POST\" method once again but this time to only get the \"id\" variable, which uniquely identifies each row and thus making retrieving and deleting rows much easier, when a deletion is successful the message will be \"Share successfully deleted\", otherwise \"Share can't be deleted\", both of which are also passed through the \"msg\" parameter, the \"delete.html\" file is shown below."
   ]
  },
  {
   "cell_type": "raw",
   "metadata": {},
   "source": [
    "<!DOCTYPE html>  \n",
    "<html>  \n",
    "<head>  \n",
    "    <title>Delete shares</title>  \n",
    "</head>  \n",
    "<body>  \n",
    "    <h3>Remove a share from the list</h3>  \n",
    "    <form action=\"/deleterecord\" method=\"post\">  \n",
    "        Share Id <input type=\"text\" name=\"id\">  \n",
    "        <input type=\"submit\" value=\"Submit\">  \n",
    "    </form>  \n",
    "    \n",
    "    <table border=5>  \n",
    "    <thead>  \n",
    "        <td>ID</td>  \n",
    "        <td>Asset</td>  \n",
    "        <td>Order Date</td>  \n",
    "        <td>Amount</td>  \n",
    "        <td>Price</td>\n",
    "    </thead>  \n",
    "      \n",
    "    {% for row in rows %}  \n",
    "      \n",
    "        <tr>  \n",
    "            <td>{{row[\"id\"]}}</td>  \n",
    "            <td>{{row[\"asset\"]}}</td>  \n",
    "            <td>{{row[\"order_date\"]}}</td>  \n",
    "            <td>{{row[\"amount\"]}}</td>  \n",
    "            <td>{{row[\"price\"]}}</td>  \n",
    "        </tr>  \n",
    "      \n",
    "    {% endfor %}  \n",
    "</table>  \n",
    "</body>  \n",
    "</html>  "
   ]
  },
  {
   "cell_type": "markdown",
   "metadata": {},
   "source": [
    "As you can see, it's similar to the \"add.html\" file, but with only one input, and it goes to \"/deleterecord\" instead, which gets caught in the route above and deletes the share with the entered ID, however, the portion for the table of rows is also implemented, this is so that you can check what is changed/deleted without having to go to another page, but what if we wanted to update a share instead of deleting one? Check the cell below."
   ]
  },
  {
   "cell_type": "markdown",
   "metadata": {},
   "source": [
    "<h3>Updating rows</h3>"
   ]
  },
  {
   "cell_type": "code",
   "execution_count": null,
   "metadata": {},
   "outputs": [],
   "source": [
    "#When in 'getdetails' directory\n",
    "@app.route(\"/update\", methods = [\"POST\"])  \n",
    "def update():  \n",
    "    con = sqlite3.connect(\"data/database.db\") #Connect to database\n",
    "    con.row_factory = sqlite3.Row #Converts the plain tuple to a more useful object\n",
    "    cur = con.cursor()  \n",
    "    \n",
    "    id = request.form[\"id\"] #Get ID\n",
    "    \n",
    "    newRows = [0, 0, 0, 0]\n",
    "    userRow = [0, 0, 0, 0]\n",
    "    msg = \"msg\"\n",
    "    \n",
    "    if (request.form['submit'] == \"Get details\"): #If \"Get details\" button is pressed\n",
    "        try:  \n",
    "            cur.execute(\"select * from stockTable where id = ?\",id) #Select all the values in the table with the rows with the id\n",
    "            rows = cur.fetchall() #Get all rows (Will only return 1)\n",
    "            userRow = rows[0] #Get first row\n",
    "            \n",
    "            #Update the rows\n",
    "            cur.execute(\"select * from stockTable\") #Select everything in the table\n",
    "            newRows = cur.fetchall() #Get all the rows\n",
    "            msg = \"Share successfully retrieved\"  \n",
    "        except:  \n",
    "            con.rollback() \n",
    "            msg = \"Share doesn't exist\"  \n",
    "        finally:  \n",
    "            #Pass all the column values\n",
    "            return render_template(\"view.html\", id = id, asset = userRow[\"asset\"], date = userRow[\"order_date\"], amount = userRow[\"amount\"], price = userRow[\"price\"], rows = newRows, msg = msg)       \n",
    "            con.close()\n",
    "    else: #If \"Update\" button is pressed\n",
    "        try:         \n",
    "            asset = request.form[\"asset\"] #Get entered asset\n",
    "            amount = request.form[\"amount\"] #Get entered amount\n",
    "            price = request.form[\"price\"] #Get entered price\n",
    "\n",
    "            cur.execute(\"update stockTable set asset=?, amount=?, price=? where id = ?\", (asset, amount, price, id)) #Update the values in the tables\n",
    "\n",
    "            #Update the rows\n",
    "            cur.execute(\"select * from stockTable\") #Select everything in the table\n",
    "            newRows = cur.fetchall() #Get all the rows\n",
    "            msg = \"Share successfully updated\" \n",
    "        except:  \n",
    "            con.rollback() \n",
    "            msg = \"Share can't be updated\"  \n",
    "        finally:\n",
    "            return render_template(\"view.html\", rows = newRows, msg = msg)  #Go to view.html with the rows\n",
    "            con.close()"
   ]
  },
  {
   "cell_type": "markdown",
   "metadata": {},
   "source": [
    "This will create a route for the page for updating the shares, you can see that there's two different paths; one for the submit button and the other for the button to get the details, it all works around the unique number given to each row, you can see that the object \"userRow\" is used to store the row for the id the user entered, which gets passed down in divisons in terms of columns whereas in the second portion you simply just grab the details from what the user entered into the form, which can be used to update the table with the new data.\n",
    "\n",
    "Either way, some error handling is made to ensure that the user wouldn't make as many mistakes, although it isn't fully implemented and so relying on it isn't the best, however it is there just as a simple example of how this works. The same page, \"view.html\" is used for this as well, this is so that you can update the values while looking at the list instead of having to go back and forth.<br>"
   ]
  },
  {
   "cell_type": "markdown",
   "metadata": {},
   "source": [
    "<h3>Running the web application</h3>\n",
    "\n",
    "Finally, we can now run this application using the method below."
   ]
  },
  {
   "cell_type": "code",
   "execution_count": null,
   "metadata": {},
   "outputs": [],
   "source": [
    "if (__name__ == \"__main__\"):  \n",
    "    create_table()\n",
    "    app.run(host='127.0.0.1', port=5000)"
   ]
  },
  {
   "cell_type": "markdown",
   "metadata": {},
   "source": [
    "Copy and paste the shown URL after running it and paste it in a new tab to use the application."
   ]
  },
  {
   "cell_type": "markdown",
   "metadata": {},
   "source": [
    "<h3>The end</h3>\n",
    "\n",
    "This concludes the end of notebook 7, you've explored the Flask framework as well as using request methods to pass in user information through web applications where you managed a database with a table using SQL in regards to shares."
   ]
  }
 ],
 "metadata": {
  "kernelspec": {
   "display_name": "Python 3",
   "language": "python",
   "name": "python3"
  },
  "language_info": {
   "codemirror_mode": {
    "name": "ipython",
    "version": 3
   },
   "file_extension": ".py",
   "mimetype": "text/x-python",
   "name": "python",
   "nbconvert_exporter": "python",
   "pygments_lexer": "ipython3",
   "version": "3.7.3"
  }
 },
 "nbformat": 4,
 "nbformat_minor": 4
}
